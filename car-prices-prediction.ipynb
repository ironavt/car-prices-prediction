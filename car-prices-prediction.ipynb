{
 "cells": [
  {
   "cell_type": "markdown",
   "id": "c8ae2145-0bd4-4a1d-8db3-166967acdc2a",
   "metadata": {},
   "source": [
    "# Car prices prediction"
   ]
  },
  {
   "cell_type": "markdown",
   "id": "8eab8d1f-e19b-4dba-8b69-8674770ecda1",
   "metadata": {},
   "source": [
    "## Intro"
   ]
  },
  {
   "cell_type": "markdown",
   "id": "4e60355c-b324-49bd-8c51-15ef0493172b",
   "metadata": {},
   "source": [
    "Our customer is a used car sales service that developes an application in order to attract new clients. The app helps to determine a market price of user's car.\n",
    "\n",
    "Following criteria are essential for the customer:\n",
    "* prediction quality\n",
    "* time required for model trainig\n",
    "* time required for prediction"
   ]
  },
  {
   "cell_type": "markdown",
   "id": "9e67433f-da1f-4caf-9728-641489576c4b",
   "metadata": {},
   "source": [
    "**Objective** is to train a model with RMSE score under 2500"
   ]
  },
  {
   "cell_type": "markdown",
   "id": "6b62227b-9524-4cc8-aaf5-a577d047eb02",
   "metadata": {},
   "source": [
    "### Additional conditions\n",
    "* use `LightBGM` library for gradient boosting\n",
    "* use at least one non-GB model\n",
    "* determine evaluation time for JupyterNB cells"
   ]
  },
  {
   "cell_type": "markdown",
   "id": "92cd4f20-6b8f-4e85-ae10-2859d495fb1c",
   "metadata": {},
   "source": [
    "### Dataset description"
   ]
  },
  {
   "cell_type": "markdown",
   "id": "7791697b-3bc6-4859-a5b4-8ca018b45b02",
   "metadata": {},
   "source": [
    "Dataset objects are entries crawled from car profile forms:"
   ]
  },
  {
   "cell_type": "markdown",
   "id": "56634010-93c5-4815-85a1-e0f575572c9a",
   "metadata": {},
   "source": [
    "* `DateCrawled` — date the form was downloaded on from a database\n",
    "* `VehicleType` — car body type\n",
    "* `RegistrationYear` — year of car registration\n",
    "* `Gearbox` — gearbox type\n",
    "* `Power` — horsepower (hp)\n",
    "* `Model` — car model\n",
    "* `Kilometer` — car mileage (km)\n",
    "* `RegistrationMonth` — month of car registration\n",
    "* `FuelType` — fuel type\n",
    "* `Brand` — car brand\n",
    "* `Repaired` — was the car in repair or not\n",
    "* `DateCreated` — car profile creation date\n",
    "* `NumberOfPictures` — number of car photos\n",
    "* `PostalCode` — postal code of a user who owns a car profile\n",
    "* `LastSeen` — last user activity date"
   ]
  },
  {
   "cell_type": "markdown",
   "id": "8d2ea57b-2a4d-4597-8ec5-ae65d4f8f2e1",
   "metadata": {},
   "source": [
    "Target feature:\n",
    "* `Price` — price (euro)"
   ]
  },
  {
   "cell_type": "markdown",
   "id": "e78558ab-a5d6-4847-a06e-7120dcf3b612",
   "metadata": {},
   "source": [
    "## Imports"
   ]
  },
  {
   "cell_type": "code",
   "execution_count": 1,
   "id": "78776fa9-3250-4bde-b500-272c5823199e",
   "metadata": {},
   "outputs": [],
   "source": [
    "import pandas as pd\n",
    "import numpy as np\n",
    "import matplotlib.pyplot as plt\n",
    "import seaborn as sns"
   ]
  },
  {
   "cell_type": "markdown",
   "id": "312dca22-6d4b-4768-a2a9-2e7716994a6b",
   "metadata": {},
   "source": [
    "We will use `ydata-profiling` library for EDA: https://github.com/ydataai/ydata-profiling."
   ]
  },
  {
   "cell_type": "raw",
   "id": "307718cb-b122-45e2-9fdc-8748f6be92d5",
   "metadata": {},
   "source": [
    "# change cell type from Raw to Code and run it to install ydata-profiling\n",
    "pip install ydata-profiling\n",
    "pip install -U ydata-profiling[notebook]"
   ]
  },
  {
   "cell_type": "code",
   "execution_count": 2,
   "id": "891a2d76-7add-496e-81ab-2c770f7466f7",
   "metadata": {},
   "outputs": [],
   "source": [
    "from ydata_profiling import ProfileReport"
   ]
  },
  {
   "cell_type": "markdown",
   "id": "be6887ba-2eb9-4a3f-b757-688dc70b629a",
   "metadata": {},
   "source": [
    "### Globals"
   ]
  },
  {
   "cell_type": "code",
   "execution_count": 3,
   "id": "6b61a133-4c3a-44cc-95d8-0e0e3396e3b8",
   "metadata": {},
   "outputs": [],
   "source": [
    "PATH_TO_DATA = './datasets/autos.csv' # path to dataset\n",
    "RND = 1337 # randon state"
   ]
  },
  {
   "cell_type": "markdown",
   "id": "d0f68b48-af19-46af-b0a1-c07dcd8ae001",
   "metadata": {},
   "source": [
    "## Open data and EDA"
   ]
  },
  {
   "cell_type": "code",
   "execution_count": 4,
   "id": "945729a6-16f9-4b39-9ec6-050fba5ffaad",
   "metadata": {},
   "outputs": [
    {
     "name": "stdout",
     "output_type": "stream",
     "text": [
      "<class 'pandas.core.frame.DataFrame'>\n",
      "RangeIndex: 354369 entries, 0 to 354368\n",
      "Data columns (total 16 columns):\n",
      " #   Column             Non-Null Count   Dtype \n",
      "---  ------             --------------   ----- \n",
      " 0   DateCrawled        354369 non-null  object\n",
      " 1   Price              354369 non-null  int64 \n",
      " 2   VehicleType        316879 non-null  object\n",
      " 3   RegistrationYear   354369 non-null  int64 \n",
      " 4   Gearbox            334536 non-null  object\n",
      " 5   Power              354369 non-null  int64 \n",
      " 6   Model              334664 non-null  object\n",
      " 7   Kilometer          354369 non-null  int64 \n",
      " 8   RegistrationMonth  354369 non-null  int64 \n",
      " 9   FuelType           321474 non-null  object\n",
      " 10  Brand              354369 non-null  object\n",
      " 11  Repaired           283215 non-null  object\n",
      " 12  DateCreated        354369 non-null  object\n",
      " 13  NumberOfPictures   354369 non-null  int64 \n",
      " 14  PostalCode         354369 non-null  int64 \n",
      " 15  LastSeen           354369 non-null  object\n",
      "dtypes: int64(7), object(9)\n",
      "memory usage: 43.3+ MB\n"
     ]
    },
    {
     "data": {
      "text/html": [
       "<div>\n",
       "<style scoped>\n",
       "    .dataframe tbody tr th:only-of-type {\n",
       "        vertical-align: middle;\n",
       "    }\n",
       "\n",
       "    .dataframe tbody tr th {\n",
       "        vertical-align: top;\n",
       "    }\n",
       "\n",
       "    .dataframe thead th {\n",
       "        text-align: right;\n",
       "    }\n",
       "</style>\n",
       "<table border=\"1\" class=\"dataframe\">\n",
       "  <thead>\n",
       "    <tr style=\"text-align: right;\">\n",
       "      <th></th>\n",
       "      <th>DateCrawled</th>\n",
       "      <th>Price</th>\n",
       "      <th>VehicleType</th>\n",
       "      <th>RegistrationYear</th>\n",
       "      <th>Gearbox</th>\n",
       "      <th>Power</th>\n",
       "      <th>Model</th>\n",
       "      <th>Kilometer</th>\n",
       "      <th>RegistrationMonth</th>\n",
       "      <th>FuelType</th>\n",
       "      <th>Brand</th>\n",
       "      <th>Repaired</th>\n",
       "      <th>DateCreated</th>\n",
       "      <th>NumberOfPictures</th>\n",
       "      <th>PostalCode</th>\n",
       "      <th>LastSeen</th>\n",
       "    </tr>\n",
       "  </thead>\n",
       "  <tbody>\n",
       "    <tr>\n",
       "      <th>0</th>\n",
       "      <td>2016-03-24 11:52:17</td>\n",
       "      <td>480</td>\n",
       "      <td>NaN</td>\n",
       "      <td>1993</td>\n",
       "      <td>manual</td>\n",
       "      <td>0</td>\n",
       "      <td>golf</td>\n",
       "      <td>150000</td>\n",
       "      <td>0</td>\n",
       "      <td>petrol</td>\n",
       "      <td>volkswagen</td>\n",
       "      <td>NaN</td>\n",
       "      <td>2016-03-24 00:00:00</td>\n",
       "      <td>0</td>\n",
       "      <td>70435</td>\n",
       "      <td>2016-04-07 03:16:57</td>\n",
       "    </tr>\n",
       "    <tr>\n",
       "      <th>1</th>\n",
       "      <td>2016-03-24 10:58:45</td>\n",
       "      <td>18300</td>\n",
       "      <td>coupe</td>\n",
       "      <td>2011</td>\n",
       "      <td>manual</td>\n",
       "      <td>190</td>\n",
       "      <td>NaN</td>\n",
       "      <td>125000</td>\n",
       "      <td>5</td>\n",
       "      <td>gasoline</td>\n",
       "      <td>audi</td>\n",
       "      <td>yes</td>\n",
       "      <td>2016-03-24 00:00:00</td>\n",
       "      <td>0</td>\n",
       "      <td>66954</td>\n",
       "      <td>2016-04-07 01:46:50</td>\n",
       "    </tr>\n",
       "    <tr>\n",
       "      <th>2</th>\n",
       "      <td>2016-03-14 12:52:21</td>\n",
       "      <td>9800</td>\n",
       "      <td>suv</td>\n",
       "      <td>2004</td>\n",
       "      <td>auto</td>\n",
       "      <td>163</td>\n",
       "      <td>grand</td>\n",
       "      <td>125000</td>\n",
       "      <td>8</td>\n",
       "      <td>gasoline</td>\n",
       "      <td>jeep</td>\n",
       "      <td>NaN</td>\n",
       "      <td>2016-03-14 00:00:00</td>\n",
       "      <td>0</td>\n",
       "      <td>90480</td>\n",
       "      <td>2016-04-05 12:47:46</td>\n",
       "    </tr>\n",
       "  </tbody>\n",
       "</table>\n",
       "</div>"
      ],
      "text/plain": [
       "           DateCrawled  Price VehicleType  RegistrationYear Gearbox  Power  \\\n",
       "0  2016-03-24 11:52:17    480         NaN              1993  manual      0   \n",
       "1  2016-03-24 10:58:45  18300       coupe              2011  manual    190   \n",
       "2  2016-03-14 12:52:21   9800         suv              2004    auto    163   \n",
       "\n",
       "   Model  Kilometer  RegistrationMonth  FuelType       Brand Repaired  \\\n",
       "0   golf     150000                  0    petrol  volkswagen      NaN   \n",
       "1    NaN     125000                  5  gasoline        audi      yes   \n",
       "2  grand     125000                  8  gasoline        jeep      NaN   \n",
       "\n",
       "           DateCreated  NumberOfPictures  PostalCode             LastSeen  \n",
       "0  2016-03-24 00:00:00                 0       70435  2016-04-07 03:16:57  \n",
       "1  2016-03-24 00:00:00                 0       66954  2016-04-07 01:46:50  \n",
       "2  2016-03-14 00:00:00                 0       90480  2016-04-05 12:47:46  "
      ]
     },
     "metadata": {},
     "output_type": "display_data"
    },
    {
     "data": {
      "text/plain": [
       "None"
      ]
     },
     "metadata": {},
     "output_type": "display_data"
    }
   ],
   "source": [
    "df = pd.read_csv(PATH_TO_DATA)\n",
    "display(df.head(3), df.info())"
   ]
  },
  {
   "cell_type": "markdown",
   "id": "34aa4265-a7b7-43b2-b585-5963e3f80949",
   "metadata": {},
   "source": [
    "We will profile data using `ProfileReport` object"
   ]
  },
  {
   "cell_type": "code",
   "execution_count": 5,
   "id": "7eef8aae-bd5d-4219-b53b-41061971968d",
   "metadata": {},
   "outputs": [],
   "source": [
    "# ydata_profiling\n",
    "profile = ProfileReport(df, title=\"Autos\")"
   ]
  },
  {
   "cell_type": "code",
   "execution_count": 6,
   "id": "32557886-f87b-4abb-948b-45d57f5acb81",
   "metadata": {},
   "outputs": [
    {
     "data": {
      "application/vnd.jupyter.widget-view+json": {
       "model_id": "a99a4c68ba144bb3b3695de7befc40bc",
       "version_major": 2,
       "version_minor": 0
      },
      "text/plain": [
       "Summarize dataset:   0%|          | 0/5 [00:00<?, ?it/s]"
      ]
     },
     "metadata": {},
     "output_type": "display_data"
    },
    {
     "data": {
      "application/vnd.jupyter.widget-view+json": {
       "model_id": "e5f6b4a377b8431d90f95f81f38a92b8",
       "version_major": 2,
       "version_minor": 0
      },
      "text/plain": [
       "Generate report structure:   0%|          | 0/1 [00:00<?, ?it/s]"
      ]
     },
     "metadata": {},
     "output_type": "display_data"
    },
    {
     "data": {
      "application/vnd.jupyter.widget-view+json": {
       "model_id": "",
       "version_major": 2,
       "version_minor": 0
      },
      "text/plain": [
       "Render widgets:   0%|          | 0/1 [00:00<?, ?it/s]"
      ]
     },
     "metadata": {},
     "output_type": "display_data"
    },
    {
     "data": {
      "application/vnd.jupyter.widget-view+json": {
       "model_id": "986bb23fd5c7495e8ca254faa722086c",
       "version_major": 2,
       "version_minor": 0
      },
      "text/plain": [
       "VBox(children=(Tab(children=(Tab(children=(GridBox(children=(VBox(children=(GridspecLayout(children=(HTML(valu…"
      ]
     },
     "metadata": {},
     "output_type": "display_data"
    }
   ],
   "source": [
    "# we'll put report output in a different cell\n",
    "profile.to_widgets()"
   ]
  },
  {
   "cell_type": "raw",
   "id": "496aef8d-8bbc-4ac0-8139-86037bfdb2b7",
   "metadata": {},
   "source": [
    "# for another form of report run this cell\n",
    "profile.to_notebook_iframe()"
   ]
  },
  {
   "cell_type": "markdown",
   "id": "47d3b61c-f32c-4175-b62c-cbd250b680c0",
   "metadata": {},
   "source": [
    "Let's check alerts the report provided us with"
   ]
  },
  {
   "cell_type": "markdown",
   "id": "2fa374b3-d5fa-448f-a887-e78b6fe2fd45",
   "metadata": {},
   "source": [
    "### Data preparation"
   ]
  },
  {
   "cell_type": "markdown",
   "id": "57cfdc48-eee7-41d5-9ff8-9845fbf743ee",
   "metadata": {},
   "source": [
    "#### Zeros"
   ]
  },
  {
   "cell_type": "markdown",
   "id": "49eee181-41bf-41f6-974e-fb33eb016380",
   "metadata": {},
   "source": [
    "As the report says there are zeroes in `Price`, `Power` and `RegistrationMonth` columns. We will remove entries with `Price == 0` since thats our target data. Luckily, it's only 3% of data"
   ]
  },
  {
   "cell_type": "code",
   "execution_count": 7,
   "id": "f4b54398-0a94-466a-9c6e-226c043a5f7c",
   "metadata": {},
   "outputs": [
    {
     "name": "stdout",
     "output_type": "stream",
     "text": [
      "<class 'pandas.core.frame.DataFrame'>\n",
      "Int64Index: 343597 entries, 0 to 354368\n",
      "Data columns (total 16 columns):\n",
      " #   Column             Non-Null Count   Dtype \n",
      "---  ------             --------------   ----- \n",
      " 0   DateCrawled        343597 non-null  object\n",
      " 1   Price              343597 non-null  int64 \n",
      " 2   VehicleType        309847 non-null  object\n",
      " 3   RegistrationYear   343597 non-null  int64 \n",
      " 4   Gearbox            326242 non-null  object\n",
      " 5   Power              343597 non-null  int64 \n",
      " 6   Model              326076 non-null  object\n",
      " 7   Kilometer          343597 non-null  int64 \n",
      " 8   RegistrationMonth  343597 non-null  int64 \n",
      " 9   FuelType           314138 non-null  object\n",
      " 10  Brand              343597 non-null  object\n",
      " 11  Repaired           277731 non-null  object\n",
      " 12  DateCreated        343597 non-null  object\n",
      " 13  NumberOfPictures   343597 non-null  int64 \n",
      " 14  PostalCode         343597 non-null  int64 \n",
      " 15  LastSeen           343597 non-null  object\n",
      "dtypes: int64(7), object(9)\n",
      "memory usage: 44.6+ MB\n"
     ]
    }
   ],
   "source": [
    "# removing zeroes in Price\n",
    "df = df[df['Price'] != 0]\n",
    "df.info()"
   ]
  },
  {
   "cell_type": "markdown",
   "id": "70190079-ecb2-400f-8ed5-ae9caf2faf71",
   "metadata": {},
   "source": [
    "`RegistrationMonth` column has zero values too, which is not good"
   ]
  },
  {
   "cell_type": "code",
   "execution_count": 8,
   "id": "f4146fe0-eaba-45e3-bbeb-d7e1fcd05886",
   "metadata": {},
   "outputs": [
    {
     "data": {
      "text/plain": [
       "0     32881\n",
       "1     22663\n",
       "2     20814\n",
       "3     33823\n",
       "4     28701\n",
       "5     28535\n",
       "6     30847\n",
       "7     26678\n",
       "8     22134\n",
       "9     23382\n",
       "10    25610\n",
       "11    23759\n",
       "12    23770\n",
       "Name: RegistrationMonth, dtype: int64"
      ]
     },
     "execution_count": 8,
     "metadata": {},
     "output_type": "execute_result"
    }
   ],
   "source": [
    "# checking values for RegistrationMonth\n",
    "df['RegistrationMonth'].value_counts().sort_index()"
   ]
  },
  {
   "cell_type": "markdown",
   "id": "0c694b6c-dec1-4ae1-a501-19b3fb556404",
   "metadata": {},
   "source": [
    "This **0** value might mean data on registration month was not provided. There are two options how to deal with it:\n",
    "* Change **0** to **NaN** value to show data was not provided\n",
    "* Remove the entire column from train data since this feature intuivly has less connection with `Price` than `RegistrationYear`\n",
    "I will choose the second option for now. If metrics are bad I will bring it back."
   ]
  },
  {
   "cell_type": "code",
   "execution_count": 9,
   "id": "5a08a360-5a60-43d2-b320-8fbc5d2a0eea",
   "metadata": {},
   "outputs": [
    {
     "data": {
      "text/plain": [
       "Index(['DateCrawled', 'Price', 'VehicleType', 'RegistrationYear', 'Gearbox',\n",
       "       'Power', 'Model', 'Kilometer', 'FuelType', 'Brand', 'Repaired',\n",
       "       'DateCreated', 'NumberOfPictures', 'PostalCode', 'LastSeen'],\n",
       "      dtype='object')"
      ]
     },
     "execution_count": 9,
     "metadata": {},
     "output_type": "execute_result"
    }
   ],
   "source": [
    "# removing RegistrationMonth column\n",
    "df = df.drop(columns = ['RegistrationMonth'])\n",
    "df.columns"
   ]
  },
  {
   "cell_type": "markdown",
   "id": "a39b850d-1d61-425e-9a47-a849d78b8baa",
   "metadata": {},
   "source": [
    "Column `Power` has zeroes but this data is vital for target data and shows high correlation too. So we will assume `Power == 0` means data was not provided. We will change **0** to **NaN** for `Power`"
   ]
  },
  {
   "cell_type": "code",
   "execution_count": 10,
   "id": "898fcfe7-bfe4-47c6-94bf-e8b6383a15fd",
   "metadata": {},
   "outputs": [
    {
     "name": "stdout",
     "output_type": "stream",
     "text": [
      "Checking number of zero values for \"Power\": 0\n",
      "Checking number of missing values for \"Power\": 36360\n"
     ]
    }
   ],
   "source": [
    "# changing 0 to NaNs for Power\n",
    "df['Power'] = df['Power'].where(df['Power'] != 0, other=np.NaN)\n",
    "\n",
    "print('Checking number of zero values for \"Power\":', df.query('Power == 0')['Power'].count())\n",
    "print('Checking number of missing values for \"Power\":', df['Power'].isna().sum())"
   ]
  },
  {
   "cell_type": "markdown",
   "id": "049f1ab9-8bdc-4c89-a3b1-5c5d71c2a337",
   "metadata": {},
   "source": [
    "#### Constant"
   ]
  },
  {
   "cell_type": "markdown",
   "id": "8135ae24-b34a-4c62-948b-e2bfc804a102",
   "metadata": {},
   "source": [
    "Column `NumberOfPictures` has constant value"
   ]
  },
  {
   "cell_type": "code",
   "execution_count": 11,
   "id": "eda4bb80-8c5d-4af6-855d-1c3277a807ff",
   "metadata": {},
   "outputs": [
    {
     "data": {
      "text/plain": [
       "array([0], dtype=int64)"
      ]
     },
     "execution_count": 11,
     "metadata": {},
     "output_type": "execute_result"
    }
   ],
   "source": [
    "df['NumberOfPictures'].unique()"
   ]
  },
  {
   "cell_type": "markdown",
   "id": "c1d2b9dc-b7cf-476d-8332-0df0b283ac06",
   "metadata": {},
   "source": [
    "This column bears no information so we will drop it"
   ]
  },
  {
   "cell_type": "code",
   "execution_count": 12,
   "id": "027bd0be-45de-4b92-88e9-8fa0909c1eaf",
   "metadata": {},
   "outputs": [
    {
     "data": {
      "text/plain": [
       "Index(['DateCrawled', 'Price', 'VehicleType', 'RegistrationYear', 'Gearbox',\n",
       "       'Power', 'Model', 'Kilometer', 'FuelType', 'Brand', 'Repaired',\n",
       "       'DateCreated', 'PostalCode', 'LastSeen'],\n",
       "      dtype='object')"
      ]
     },
     "execution_count": 12,
     "metadata": {},
     "output_type": "execute_result"
    }
   ],
   "source": [
    "df = df.drop(columns=['NumberOfPictures'])\n",
    "df.columns"
   ]
  },
  {
   "cell_type": "markdown",
   "id": "59049d02-132d-42bf-aba4-bb69d85a5dab",
   "metadata": {},
   "source": [
    "#### Duplicates"
   ]
  },
  {
   "cell_type": "markdown",
   "id": "8a4b7460-38ee-4fd2-8d8f-6a1986f3d9d4",
   "metadata": {},
   "source": [
    "The dataset has some fully duplicated rows so we will drop them"
   ]
  },
  {
   "cell_type": "code",
   "execution_count": 13,
   "id": "02e11ce6-26a9-44a7-ad2b-840cc72627fa",
   "metadata": {},
   "outputs": [
    {
     "data": {
      "text/plain": [
       "0"
      ]
     },
     "execution_count": 13,
     "metadata": {},
     "output_type": "execute_result"
    }
   ],
   "source": [
    "df = df.drop_duplicates(keep='first')\n",
    "df.duplicated().sum()"
   ]
  },
  {
   "cell_type": "markdown",
   "id": "7d470d20-23ca-4cc5-a39d-13b9f5c30089",
   "metadata": {},
   "source": [
    "#### High cardinality"
   ]
  },
  {
   "cell_type": "markdown",
   "id": "28679f79-f3b1-4b42-ad9f-fa6a4ec4da5f",
   "metadata": {},
   "source": [
    "Columns `DateCrawled`, `DateCreated`, `LastSeen` have no impact on target feature since they are not related to cars themselves but to database operation. We will drop those columns."
   ]
  },
  {
   "cell_type": "code",
   "execution_count": 14,
   "id": "992d5610-2a5c-429f-a09b-e0c2e675a589",
   "metadata": {},
   "outputs": [
    {
     "data": {
      "text/plain": [
       "Index(['Price', 'VehicleType', 'RegistrationYear', 'Gearbox', 'Power', 'Model',\n",
       "       'Kilometer', 'FuelType', 'Brand', 'Repaired', 'PostalCode'],\n",
       "      dtype='object')"
      ]
     },
     "execution_count": 14,
     "metadata": {},
     "output_type": "execute_result"
    }
   ],
   "source": [
    "df = df.drop(columns=['DateCrawled', 'DateCreated', 'LastSeen'])\n",
    "df.columns"
   ]
  },
  {
   "cell_type": "markdown",
   "id": "e5beccef-607f-4f73-bca1-ad8bc9a40665",
   "metadata": {},
   "source": [
    "Column `Model` is reported to have high cardinality too but this data could be important for target."
   ]
  },
  {
   "cell_type": "code",
   "execution_count": 15,
   "id": "975d0909-0a2d-40ad-ac1e-766cb5964786",
   "metadata": {},
   "outputs": [
    {
     "data": {
      "image/png": "[encoded data removed]",
      "text/plain": [
       "<Figure size 1080x360 with 1 Axes>"
      ]
     },
     "metadata": {
      "needs_background": "light"
     },
     "output_type": "display_data"
    }
   ],
   "source": [
    "# checking value counts\n",
    "model_counts = df['Model'].value_counts(dropna=False)\n",
    "model_counts.plot(kind='bar', figsize=(15, 5))\n",
    "plt.show()"
   ]
  },
  {
   "cell_type": "code",
   "execution_count": 16,
   "id": "5cfbbd02-1e62-4d44-992b-821d01c83292",
   "metadata": {},
   "outputs": [
    {
     "data": {
      "text/plain": [
       "golf        28246\n",
       "other       23706\n",
       "3er         19179\n",
       "NaN         17521\n",
       "polo        12628\n",
       "corsa       12197\n",
       "astra       10475\n",
       "passat       9834\n",
       "a4           9642\n",
       "c_klasse     8174\n",
       "Name: Model, dtype: int64"
      ]
     },
     "metadata": {},
     "output_type": "display_data"
    },
    {
     "data": {
      "text/plain": [
       "gl                    12\n",
       "samara                12\n",
       "elefantino            11\n",
       "kalina                 9\n",
       "i3                     8\n",
       "serie_2                8\n",
       "rangerover             4\n",
       "serie_3                3\n",
       "range_rover_evoque     2\n",
       "serie_1                1\n",
       "Name: Model, dtype: int64"
      ]
     },
     "metadata": {},
     "output_type": "display_data"
    }
   ],
   "source": [
    "display(model_counts.head(10), model_counts.tail(10))"
   ]
  },
  {
   "cell_type": "markdown",
   "id": "67c27468-0704-4e5a-bac1-a3cbe0f42946",
   "metadata": {},
   "source": [
    "We will check brand-model pairs"
   ]
  },
  {
   "cell_type": "code",
   "execution_count": 17,
   "id": "ffda4de1-6928-4ce7-add1-b0bedc5968fa",
   "metadata": {},
   "outputs": [],
   "source": [
    "model_brand = df.groupby(by=['Brand', 'Model'], dropna=False)"
   ]
  },
  {
   "cell_type": "code",
   "execution_count": 18,
   "id": "24415110-4992-49cd-9cbb-c359d8479fd2",
   "metadata": {},
   "outputs": [
    {
     "data": {
      "text/html": [
       "<div>\n",
       "<style scoped>\n",
       "    .dataframe tbody tr th:only-of-type {\n",
       "        vertical-align: middle;\n",
       "    }\n",
       "\n",
       "    .dataframe tbody tr th {\n",
       "        vertical-align: top;\n",
       "    }\n",
       "\n",
       "    .dataframe thead th {\n",
       "        text-align: right;\n",
       "    }\n",
       "</style>\n",
       "<table border=\"1\" class=\"dataframe\">\n",
       "  <thead>\n",
       "    <tr style=\"text-align: right;\">\n",
       "      <th></th>\n",
       "      <th></th>\n",
       "      <th>Gearbox</th>\n",
       "      <th>Power</th>\n",
       "      <th>FuelType</th>\n",
       "      <th>VehicleType</th>\n",
       "    </tr>\n",
       "    <tr>\n",
       "      <th>Brand</th>\n",
       "      <th>Model</th>\n",
       "      <th></th>\n",
       "      <th></th>\n",
       "      <th></th>\n",
       "      <th></th>\n",
       "    </tr>\n",
       "  </thead>\n",
       "  <tbody>\n",
       "    <tr>\n",
       "      <th rowspan=\"5\" valign=\"top\">alfa_romeo</th>\n",
       "      <th>145</th>\n",
       "      <td>1</td>\n",
       "      <td>13</td>\n",
       "      <td>1</td>\n",
       "      <td>4</td>\n",
       "    </tr>\n",
       "    <tr>\n",
       "      <th>147</th>\n",
       "      <td>2</td>\n",
       "      <td>24</td>\n",
       "      <td>3</td>\n",
       "      <td>5</td>\n",
       "    </tr>\n",
       "    <tr>\n",
       "      <th>156</th>\n",
       "      <td>2</td>\n",
       "      <td>35</td>\n",
       "      <td>3</td>\n",
       "      <td>5</td>\n",
       "    </tr>\n",
       "    <tr>\n",
       "      <th>159</th>\n",
       "      <td>2</td>\n",
       "      <td>17</td>\n",
       "      <td>2</td>\n",
       "      <td>2</td>\n",
       "    </tr>\n",
       "    <tr>\n",
       "      <th>other</th>\n",
       "      <td>2</td>\n",
       "      <td>66</td>\n",
       "      <td>3</td>\n",
       "      <td>6</td>\n",
       "    </tr>\n",
       "    <tr>\n",
       "      <th>...</th>\n",
       "      <th>...</th>\n",
       "      <td>...</td>\n",
       "      <td>...</td>\n",
       "      <td>...</td>\n",
       "      <td>...</td>\n",
       "    </tr>\n",
       "    <tr>\n",
       "      <th rowspan=\"5\" valign=\"top\">volvo</th>\n",
       "      <th>v50</th>\n",
       "      <td>2</td>\n",
       "      <td>14</td>\n",
       "      <td>4</td>\n",
       "      <td>2</td>\n",
       "    </tr>\n",
       "    <tr>\n",
       "      <th>v60</th>\n",
       "      <td>2</td>\n",
       "      <td>12</td>\n",
       "      <td>3</td>\n",
       "      <td>2</td>\n",
       "    </tr>\n",
       "    <tr>\n",
       "      <th>v70</th>\n",
       "      <td>2</td>\n",
       "      <td>48</td>\n",
       "      <td>4</td>\n",
       "      <td>2</td>\n",
       "    </tr>\n",
       "    <tr>\n",
       "      <th>xc_reihe</th>\n",
       "      <td>2</td>\n",
       "      <td>24</td>\n",
       "      <td>3</td>\n",
       "      <td>3</td>\n",
       "    </tr>\n",
       "    <tr>\n",
       "      <th>NaN</th>\n",
       "      <td>2</td>\n",
       "      <td>27</td>\n",
       "      <td>4</td>\n",
       "      <td>3</td>\n",
       "    </tr>\n",
       "  </tbody>\n",
       "</table>\n",
       "<p>337 rows × 4 columns</p>\n",
       "</div>"
      ],
      "text/plain": [
       "                     Gearbox  Power  FuelType  VehicleType\n",
       "Brand      Model                                          \n",
       "alfa_romeo 145             1     13         1            4\n",
       "           147             2     24         3            5\n",
       "           156             2     35         3            5\n",
       "           159             2     17         2            2\n",
       "           other           2     66         3            6\n",
       "...                      ...    ...       ...          ...\n",
       "volvo      v50             2     14         4            2\n",
       "           v60             2     12         3            2\n",
       "           v70             2     48         4            2\n",
       "           xc_reihe        2     24         3            3\n",
       "           NaN             2     27         4            3\n",
       "\n",
       "[337 rows x 4 columns]"
      ]
     },
     "execution_count": 18,
     "metadata": {},
     "output_type": "execute_result"
    }
   ],
   "source": [
    "model_brand[['Gearbox', 'Power', 'FuelType', 'VehicleType']].agg('nunique')"
   ]
  },
  {
   "cell_type": "code",
   "execution_count": 19,
   "id": "2d285863-0382-40f1-af39-a4e9ced03396",
   "metadata": {},
   "outputs": [
    {
     "data": {
      "text/plain": [
       "VehicleType\n",
       "small    19\n",
       "sedan    12\n",
       "NaN      12\n",
       "coupe     2\n",
       "other     1\n",
       "dtype: int64"
      ]
     },
     "execution_count": 19,
     "metadata": {},
     "output_type": "execute_result"
    }
   ],
   "source": [
    "df[(df['Brand'] == 'alfa_romeo') & (df['Model'] == '145')].value_counts(subset='VehicleType', dropna=False)"
   ]
  },
  {
   "cell_type": "code",
   "execution_count": 20,
   "id": "acbaa2b9-a5dc-4b10-a1c0-65b450d97ef8",
   "metadata": {},
   "outputs": [
    {
     "data": {
      "text/plain": [
       "sedan          89405\n",
       "small          78017\n",
       "wagon          63700\n",
       "NaN            33750\n",
       "bus            28345\n",
       "convertible    19865\n",
       "coupe          15634\n",
       "suv            11791\n",
       "other           3086\n",
       "Name: VehicleType, dtype: int64"
      ]
     },
     "execution_count": 20,
     "metadata": {},
     "output_type": "execute_result"
    }
   ],
   "source": [
    "df['VehicleType'].value_counts(dropna=False)"
   ]
  },
  {
   "cell_type": "markdown",
   "id": "b5ddf116-2dce-4d74-875d-1a006bdfff18",
   "metadata": {},
   "source": [
    "Although `Brand` and `Model` define a car there other features quite differ within one model: same models have different car body type, horsepower etc. Also there are models that are much more popular than others. We will put away our decision regarding this column for later. There are two options though:\n",
    "* Introduce `other` category to models that are not widely present in dataset\n",
    "* * Need to mention this category is already present here so this option might be the one I will choose\n",
    "* Remove `Model` feature since it might not affect target too much"
   ]
  },
  {
   "cell_type": "raw",
   "id": "1d4cf448-beb8-4582-ad68-3db95e88b0e5",
   "metadata": {},
   "source": [
    "model_group = df.groupby(by='Model', dropna=False)"
   ]
  },
  {
   "cell_type": "raw",
   "id": "dd397ae7-0993-4cdc-89ad-9bb8fb8772a9",
   "metadata": {},
   "source": [
    "model_group['Price'].agg('count')"
   ]
  },
  {
   "cell_type": "raw",
   "id": "284dc307-f839-4563-b8ec-b565b670f310",
   "metadata": {},
   "source": [
    "df['ModelsCount'] = df.groupby(by='Model', dropna=False)['Price'].transform('count')"
   ]
  },
  {
   "cell_type": "raw",
   "id": "dfa73cc3-4f56-4da2-afe4-07865e5cb687",
   "metadata": {},
   "source": [
    "df.head()"
   ]
  },
  {
   "cell_type": "raw",
   "id": "ca3bf91a-740d-4fc2-b5e8-ad6fa8113df9",
   "metadata": {},
   "source": [
    "df.query('Brand == \"audi\"')"
   ]
  },
  {
   "cell_type": "markdown",
   "id": "0906e1dc-615f-4f0d-8649-aae6ac9fb5d2",
   "metadata": {},
   "source": [
    "#### Second profile"
   ]
  },
  {
   "cell_type": "markdown",
   "id": "e882cd84-c415-4bdd-9ca4-4017c913026a",
   "metadata": {},
   "source": [
    "We will redo dataset profiling after data manioulations we applied so far"
   ]
  },
  {
   "cell_type": "code",
   "execution_count": 21,
   "id": "5136e890-e116-4f51-b13d-1dc18b856177",
   "metadata": {},
   "outputs": [],
   "source": [
    "# ydata_profiling\n",
    "profile2 = ProfileReport(df, title=\"Autos2\")"
   ]
  },
  {
   "cell_type": "code",
   "execution_count": 22,
   "id": "8cd446cf-ca2f-4f13-84ad-684405699e77",
   "metadata": {},
   "outputs": [
    {
     "data": {
      "application/vnd.jupyter.widget-view+json": {
       "model_id": "f85089140d3d4af28bcbba1fd9d1dbd2",
       "version_major": 2,
       "version_minor": 0
      },
      "text/plain": [
       "Summarize dataset:   0%|          | 0/5 [00:00<?, ?it/s]"
      ]
     },
     "metadata": {},
     "output_type": "display_data"
    },
    {
     "data": {
      "application/vnd.jupyter.widget-view+json": {
       "model_id": "f39a0d018f2a41ba85a1479ea3567a5f",
       "version_major": 2,
       "version_minor": 0
      },
      "text/plain": [
       "Generate report structure:   0%|          | 0/1 [00:00<?, ?it/s]"
      ]
     },
     "metadata": {},
     "output_type": "display_data"
    },
    {
     "data": {
      "application/vnd.jupyter.widget-view+json": {
       "model_id": "",
       "version_major": 2,
       "version_minor": 0
      },
      "text/plain": [
       "Render widgets:   0%|          | 0/1 [00:00<?, ?it/s]"
      ]
     },
     "metadata": {},
     "output_type": "display_data"
    },
    {
     "data": {
      "application/vnd.jupyter.widget-view+json": {
       "model_id": "b34c2a42e54745449e3788f535dceb14",
       "version_major": 2,
       "version_minor": 0
      },
      "text/plain": [
       "VBox(children=(Tab(children=(Tab(children=(GridBox(children=(VBox(children=(GridspecLayout(children=(HTML(valu…"
      ]
     },
     "metadata": {},
     "output_type": "display_data"
    }
   ],
   "source": [
    "# we'll put report output in a different cell\n",
    "profile2.to_widgets()"
   ]
  },
  {
   "cell_type": "markdown",
   "id": "01e0995a-65e0-4ed8-ad1e-95d9465df72c",
   "metadata": {},
   "source": [
    "#### High corellation"
   ]
  },
  {
   "cell_type": "markdown",
   "id": "0a4914e2-93b4-4454-a981-543ff5f7218e",
   "metadata": {},
   "source": [
    "Having `Price` correlated with `RegistrationYear` and `Power` looks quite natural. Another problem is a full correlation between `RegistrationYear` and `VehicleType`. We will look closer at this columns"
   ]
  },
  {
   "cell_type": "code",
   "execution_count": 23,
   "id": "c2051179-44a4-4eb9-bd18-753a9d31e9b0",
   "metadata": {},
   "outputs": [
    {
     "data": {
      "text/plain": [
       "2000    23072\n",
       "1999    21994\n",
       "2005    21524\n",
       "2006    19679\n",
       "2001    19653\n",
       "        ...  \n",
       "3800        1\n",
       "4800        1\n",
       "6500        1\n",
       "2290        1\n",
       "1946        1\n",
       "Name: RegistrationYear, Length: 140, dtype: int64"
      ]
     },
     "execution_count": 23,
     "metadata": {},
     "output_type": "execute_result"
    }
   ],
   "source": [
    "df['RegistrationYear'].value_counts()"
   ]
  },
  {
   "cell_type": "code",
   "execution_count": 24,
   "id": "3af41d89-19ab-4541-a6cb-c839fa23abe6",
   "metadata": {},
   "outputs": [
    {
     "data": {
      "text/plain": [
       "sedan          89405\n",
       "small          78017\n",
       "wagon          63700\n",
       "bus            28345\n",
       "convertible    19865\n",
       "coupe          15634\n",
       "suv            11791\n",
       "other           3086\n",
       "Name: VehicleType, dtype: int64"
      ]
     },
     "execution_count": 24,
     "metadata": {},
     "output_type": "execute_result"
    }
   ],
   "source": [
    "df['VehicleType'].value_counts()"
   ]
  },
  {
   "cell_type": "markdown",
   "id": "cbdbd2c0-3252-4490-8325-0d06104121e4",
   "metadata": {},
   "source": [
    "Column `VehicleType` has no problems but `RegistrationYear` has unrealistic values"
   ]
  }
 ],
 "metadata": {
  "kernelspec": {
   "display_name": "Python 3 (ipykernel)",
   "language": "python",
   "name": "python3"
  },
  "language_info": {
   "codemirror_mode": {
    "name": "ipython",
    "version": 3
   },
   "file_extension": ".py",
   "mimetype": "text/x-python",
   "name": "python",
   "nbconvert_exporter": "python",
   "pygments_lexer": "ipython3",
   "version": "3.9.7"
  }
 },
 "nbformat": 4,
 "nbformat_minor": 5
}
