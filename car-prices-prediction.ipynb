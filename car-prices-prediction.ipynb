{
 "cells": [
  {
   "cell_type": "markdown",
   "id": "c8ae2145-0bd4-4a1d-8db3-166967acdc2a",
   "metadata": {},
   "source": [
    "# Car prices prediction"
   ]
  },
  {
   "cell_type": "markdown",
   "id": "8eab8d1f-e19b-4dba-8b69-8674770ecda1",
   "metadata": {},
   "source": [
    "## Intro"
   ]
  },
  {
   "cell_type": "markdown",
   "id": "4e60355c-b324-49bd-8c51-15ef0493172b",
   "metadata": {},
   "source": [
    "Our customer is a used car sales service that developes an application in order to attract new clients. The app helps to determine a market price of user's car.\n",
    "\n",
    "Following criteria are essential for the customer:\n",
    "* prediction quality\n",
    "* time required for model trainig\n",
    "* time required for prediction"
   ]
  },
  {
   "cell_type": "markdown",
   "id": "9e67433f-da1f-4caf-9728-641489576c4b",
   "metadata": {},
   "source": [
    "**Objective** is to train a model with RMSE score under 2500"
   ]
  },
  {
   "cell_type": "markdown",
   "id": "6b62227b-9524-4cc8-aaf5-a577d047eb02",
   "metadata": {},
   "source": [
    "### Additional conditions\n",
    "* use `LightBGM` library for gradient boosting\n",
    "* use at least one non-GB model\n",
    "* determine evaluation time for JupyterNB cells"
   ]
  },
  {
   "cell_type": "markdown",
   "id": "92cd4f20-6b8f-4e85-ae10-2859d495fb1c",
   "metadata": {},
   "source": [
    "### Dataset description"
   ]
  },
  {
   "cell_type": "markdown",
   "id": "7791697b-3bc6-4859-a5b4-8ca018b45b02",
   "metadata": {},
   "source": [
    "Dataset objects are entries crawled from car profile forms:"
   ]
  },
  {
   "cell_type": "markdown",
   "id": "56634010-93c5-4815-85a1-e0f575572c9a",
   "metadata": {},
   "source": [
    "* `DateCrawled` — date the form was downloaded on from a database\n",
    "* `VehicleType` — car body type\n",
    "* `RegistrationYear` — year of car registration\n",
    "* `Gearbox` — gearbox type\n",
    "* `Power` — horsepower (hp)\n",
    "* `Model` — car model\n",
    "* `Kilometer` — car mileage (km)\n",
    "* `RegistrationMonth` — month of car registration\n",
    "* `FuelType` — fuel type\n",
    "* `Brand` — car brand\n",
    "* `Repaired` — was the car in repair or not\n",
    "* `DateCreated` — car profile creation date\n",
    "* `NumberOfPictures` — number of car photos\n",
    "* `PostalCode` — postal code of a user who owns a car profile\n",
    "* `LastSeen` — last user activity date"
   ]
  },
  {
   "cell_type": "markdown",
   "id": "8d2ea57b-2a4d-4597-8ec5-ae65d4f8f2e1",
   "metadata": {},
   "source": [
    "Target feature:\n",
    "* `Price` — price (euro)"
   ]
  },
  {
   "cell_type": "markdown",
   "id": "e78558ab-a5d6-4847-a06e-7120dcf3b612",
   "metadata": {},
   "source": [
    "## Imports"
   ]
  },
  {
   "cell_type": "code",
   "execution_count": 1,
   "id": "78776fa9-3250-4bde-b500-272c5823199e",
   "metadata": {},
   "outputs": [],
   "source": [
    "import pandas as pd\n",
    "import numpy as np\n",
    "import matplotlib.pyplot as plt\n",
    "import seaborn as sns"
   ]
  },
  {
   "cell_type": "markdown",
   "id": "312dca22-6d4b-4768-a2a9-2e7716994a6b",
   "metadata": {},
   "source": [
    "We will use `ydata-profiling` library for EDA: https://github.com/ydataai/ydata-profiling."
   ]
  },
  {
   "cell_type": "raw",
   "id": "307718cb-b122-45e2-9fdc-8748f6be92d5",
   "metadata": {},
   "source": [
    "# change cell type from Raw to Code and run it to install ydata-profiling\n",
    "pip install ydata-profiling\n",
    "pip install -U ydata-profiling[notebook]"
   ]
  },
  {
   "cell_type": "code",
   "execution_count": 2,
   "id": "891a2d76-7add-496e-81ab-2c770f7466f7",
   "metadata": {},
   "outputs": [],
   "source": [
    "from ydata_profiling import ProfileReport"
   ]
  },
  {
   "cell_type": "markdown",
   "id": "be6887ba-2eb9-4a3f-b757-688dc70b629a",
   "metadata": {},
   "source": [
    "### Globals"
   ]
  },
  {
   "cell_type": "code",
   "execution_count": 3,
   "id": "6b61a133-4c3a-44cc-95d8-0e0e3396e3b8",
   "metadata": {},
   "outputs": [],
   "source": [
    "PATH_TO_DATA = './datasets/autos.csv' # path to dataset\n",
    "RND = 1337 # randon state"
   ]
  },
  {
   "cell_type": "markdown",
   "id": "d0f68b48-af19-46af-b0a1-c07dcd8ae001",
   "metadata": {},
   "source": [
    "## Open data and EDA"
   ]
  },
  {
   "cell_type": "code",
   "execution_count": 18,
   "id": "945729a6-16f9-4b39-9ec6-050fba5ffaad",
   "metadata": {},
   "outputs": [
    {
     "name": "stdout",
     "output_type": "stream",
     "text": [
      "<class 'pandas.core.frame.DataFrame'>\n",
      "RangeIndex: 354369 entries, 0 to 354368\n",
      "Data columns (total 16 columns):\n",
      " #   Column             Non-Null Count   Dtype \n",
      "---  ------             --------------   ----- \n",
      " 0   DateCrawled        354369 non-null  object\n",
      " 1   Price              354369 non-null  int64 \n",
      " 2   VehicleType        316879 non-null  object\n",
      " 3   RegistrationYear   354369 non-null  int64 \n",
      " 4   Gearbox            334536 non-null  object\n",
      " 5   Power              354369 non-null  int64 \n",
      " 6   Model              334664 non-null  object\n",
      " 7   Kilometer          354369 non-null  int64 \n",
      " 8   RegistrationMonth  354369 non-null  int64 \n",
      " 9   FuelType           321474 non-null  object\n",
      " 10  Brand              354369 non-null  object\n",
      " 11  Repaired           283215 non-null  object\n",
      " 12  DateCreated        354369 non-null  object\n",
      " 13  NumberOfPictures   354369 non-null  int64 \n",
      " 14  PostalCode         354369 non-null  int64 \n",
      " 15  LastSeen           354369 non-null  object\n",
      "dtypes: int64(7), object(9)\n",
      "memory usage: 43.3+ MB\n"
     ]
    },
    {
     "data": {
      "text/html": [
       "<div>\n",
       "<style scoped>\n",
       "    .dataframe tbody tr th:only-of-type {\n",
       "        vertical-align: middle;\n",
       "    }\n",
       "\n",
       "    .dataframe tbody tr th {\n",
       "        vertical-align: top;\n",
       "    }\n",
       "\n",
       "    .dataframe thead th {\n",
       "        text-align: right;\n",
       "    }\n",
       "</style>\n",
       "<table border=\"1\" class=\"dataframe\">\n",
       "  <thead>\n",
       "    <tr style=\"text-align: right;\">\n",
       "      <th></th>\n",
       "      <th>DateCrawled</th>\n",
       "      <th>Price</th>\n",
       "      <th>VehicleType</th>\n",
       "      <th>RegistrationYear</th>\n",
       "      <th>Gearbox</th>\n",
       "      <th>Power</th>\n",
       "      <th>Model</th>\n",
       "      <th>Kilometer</th>\n",
       "      <th>RegistrationMonth</th>\n",
       "      <th>FuelType</th>\n",
       "      <th>Brand</th>\n",
       "      <th>Repaired</th>\n",
       "      <th>DateCreated</th>\n",
       "      <th>NumberOfPictures</th>\n",
       "      <th>PostalCode</th>\n",
       "      <th>LastSeen</th>\n",
       "    </tr>\n",
       "  </thead>\n",
       "  <tbody>\n",
       "    <tr>\n",
       "      <th>0</th>\n",
       "      <td>2016-03-24 11:52:17</td>\n",
       "      <td>480</td>\n",
       "      <td>NaN</td>\n",
       "      <td>1993</td>\n",
       "      <td>manual</td>\n",
       "      <td>0</td>\n",
       "      <td>golf</td>\n",
       "      <td>150000</td>\n",
       "      <td>0</td>\n",
       "      <td>petrol</td>\n",
       "      <td>volkswagen</td>\n",
       "      <td>NaN</td>\n",
       "      <td>2016-03-24 00:00:00</td>\n",
       "      <td>0</td>\n",
       "      <td>70435</td>\n",
       "      <td>2016-04-07 03:16:57</td>\n",
       "    </tr>\n",
       "    <tr>\n",
       "      <th>1</th>\n",
       "      <td>2016-03-24 10:58:45</td>\n",
       "      <td>18300</td>\n",
       "      <td>coupe</td>\n",
       "      <td>2011</td>\n",
       "      <td>manual</td>\n",
       "      <td>190</td>\n",
       "      <td>NaN</td>\n",
       "      <td>125000</td>\n",
       "      <td>5</td>\n",
       "      <td>gasoline</td>\n",
       "      <td>audi</td>\n",
       "      <td>yes</td>\n",
       "      <td>2016-03-24 00:00:00</td>\n",
       "      <td>0</td>\n",
       "      <td>66954</td>\n",
       "      <td>2016-04-07 01:46:50</td>\n",
       "    </tr>\n",
       "    <tr>\n",
       "      <th>2</th>\n",
       "      <td>2016-03-14 12:52:21</td>\n",
       "      <td>9800</td>\n",
       "      <td>suv</td>\n",
       "      <td>2004</td>\n",
       "      <td>auto</td>\n",
       "      <td>163</td>\n",
       "      <td>grand</td>\n",
       "      <td>125000</td>\n",
       "      <td>8</td>\n",
       "      <td>gasoline</td>\n",
       "      <td>jeep</td>\n",
       "      <td>NaN</td>\n",
       "      <td>2016-03-14 00:00:00</td>\n",
       "      <td>0</td>\n",
       "      <td>90480</td>\n",
       "      <td>2016-04-05 12:47:46</td>\n",
       "    </tr>\n",
       "  </tbody>\n",
       "</table>\n",
       "</div>"
      ],
      "text/plain": [
       "           DateCrawled  Price VehicleType  RegistrationYear Gearbox  Power  \\\n",
       "0  2016-03-24 11:52:17    480         NaN              1993  manual      0   \n",
       "1  2016-03-24 10:58:45  18300       coupe              2011  manual    190   \n",
       "2  2016-03-14 12:52:21   9800         suv              2004    auto    163   \n",
       "\n",
       "   Model  Kilometer  RegistrationMonth  FuelType       Brand Repaired  \\\n",
       "0   golf     150000                  0    petrol  volkswagen      NaN   \n",
       "1    NaN     125000                  5  gasoline        audi      yes   \n",
       "2  grand     125000                  8  gasoline        jeep      NaN   \n",
       "\n",
       "           DateCreated  NumberOfPictures  PostalCode             LastSeen  \n",
       "0  2016-03-24 00:00:00                 0       70435  2016-04-07 03:16:57  \n",
       "1  2016-03-24 00:00:00                 0       66954  2016-04-07 01:46:50  \n",
       "2  2016-03-14 00:00:00                 0       90480  2016-04-05 12:47:46  "
      ]
     },
     "metadata": {},
     "output_type": "display_data"
    },
    {
     "data": {
      "text/plain": [
       "None"
      ]
     },
     "metadata": {},
     "output_type": "display_data"
    }
   ],
   "source": [
    "df = pd.read_csv(PATH_TO_DATA)\n",
    "display(df.head(3), df.info())"
   ]
  },
  {
   "cell_type": "markdown",
   "id": "34aa4265-a7b7-43b2-b585-5963e3f80949",
   "metadata": {},
   "source": [
    "We will profile data using `ProfileReport` object"
   ]
  },
  {
   "cell_type": "code",
   "execution_count": 5,
   "id": "7eef8aae-bd5d-4219-b53b-41061971968d",
   "metadata": {},
   "outputs": [],
   "source": [
    "# ydata_profiling\n",
    "profile = ProfileReport(df, title=\"Autos\")"
   ]
  },
  {
   "cell_type": "code",
   "execution_count": 6,
   "id": "32557886-f87b-4abb-948b-45d57f5acb81",
   "metadata": {},
   "outputs": [
    {
     "data": {
      "application/vnd.jupyter.widget-view+json": {
       "model_id": "db35d2a114bc407f8aedf66da1f552ba",
       "version_major": 2,
       "version_minor": 0
      },
      "text/plain": [
       "Summarize dataset:   0%|          | 0/5 [00:00<?, ?it/s]"
      ]
     },
     "metadata": {},
     "output_type": "display_data"
    },
    {
     "data": {
      "application/vnd.jupyter.widget-view+json": {
       "model_id": "93d1d6a4934b41399dc3b77f1a131826",
       "version_major": 2,
       "version_minor": 0
      },
      "text/plain": [
       "Generate report structure:   0%|          | 0/1 [00:00<?, ?it/s]"
      ]
     },
     "metadata": {},
     "output_type": "display_data"
    },
    {
     "data": {
      "application/vnd.jupyter.widget-view+json": {
       "model_id": "",
       "version_major": 2,
       "version_minor": 0
      },
      "text/plain": [
       "Render widgets:   0%|          | 0/1 [00:00<?, ?it/s]"
      ]
     },
     "metadata": {},
     "output_type": "display_data"
    },
    {
     "data": {
      "application/vnd.jupyter.widget-view+json": {
       "model_id": "084b22b1770246dbb28633f876db9b33",
       "version_major": 2,
       "version_minor": 0
      },
      "text/plain": [
       "VBox(children=(Tab(children=(Tab(children=(GridBox(children=(VBox(children=(GridspecLayout(children=(HTML(valu…"
      ]
     },
     "metadata": {},
     "output_type": "display_data"
    }
   ],
   "source": [
    "# we'll put report output in a different cell\n",
    "profile.to_widgets()"
   ]
  },
  {
   "cell_type": "raw",
   "id": "496aef8d-8bbc-4ac0-8139-86037bfdb2b7",
   "metadata": {},
   "source": [
    "# for another form of report run this cell\n",
    "profile.to_notebook_iframe()"
   ]
  },
  {
   "cell_type": "markdown",
   "id": "47d3b61c-f32c-4175-b62c-cbd250b680c0",
   "metadata": {},
   "source": [
    "Let's check alerts the report provided us with"
   ]
  },
  {
   "cell_type": "markdown",
   "id": "2fa374b3-d5fa-448f-a887-e78b6fe2fd45",
   "metadata": {},
   "source": [
    "### Data cleaning"
   ]
  },
  {
   "cell_type": "markdown",
   "id": "049f1ab9-8bdc-4c89-a3b1-5c5d71c2a337",
   "metadata": {},
   "source": [
    "#### Constant"
   ]
  },
  {
   "cell_type": "markdown",
   "id": "8135ae24-b34a-4c62-948b-e2bfc804a102",
   "metadata": {},
   "source": [
    "Column `NumberOfPictures` has constant value"
   ]
  },
  {
   "cell_type": "code",
   "execution_count": 19,
   "id": "eda4bb80-8c5d-4af6-855d-1c3277a807ff",
   "metadata": {},
   "outputs": [
    {
     "data": {
      "text/plain": [
       "array([0], dtype=int64)"
      ]
     },
     "execution_count": 19,
     "metadata": {},
     "output_type": "execute_result"
    }
   ],
   "source": [
    "df['NumberOfPictures'].unique()"
   ]
  },
  {
   "cell_type": "markdown",
   "id": "c1d2b9dc-b7cf-476d-8332-0df0b283ac06",
   "metadata": {},
   "source": [
    "This column bears no information so we will drop it"
   ]
  },
  {
   "cell_type": "code",
   "execution_count": 20,
   "id": "027bd0be-45de-4b92-88e9-8fa0909c1eaf",
   "metadata": {},
   "outputs": [
    {
     "data": {
      "text/plain": [
       "Index(['DateCrawled', 'Price', 'VehicleType', 'RegistrationYear', 'Gearbox',\n",
       "       'Power', 'Model', 'Kilometer', 'RegistrationMonth', 'FuelType', 'Brand',\n",
       "       'Repaired', 'DateCreated', 'PostalCode', 'LastSeen'],\n",
       "      dtype='object')"
      ]
     },
     "execution_count": 20,
     "metadata": {},
     "output_type": "execute_result"
    }
   ],
   "source": [
    "df = df.drop(columns=['NumberOfPictures'])\n",
    "df.columns"
   ]
  },
  {
   "cell_type": "markdown",
   "id": "59049d02-132d-42bf-aba4-bb69d85a5dab",
   "metadata": {},
   "source": [
    "#### Duplicates"
   ]
  },
  {
   "cell_type": "markdown",
   "id": "8a4b7460-38ee-4fd2-8d8f-6a1986f3d9d4",
   "metadata": {},
   "source": [
    "The dataset has 4 fully duplicated rows so we will drop them"
   ]
  },
  {
   "cell_type": "code",
   "execution_count": 21,
   "id": "02e11ce6-26a9-44a7-ad2b-840cc72627fa",
   "metadata": {},
   "outputs": [
    {
     "data": {
      "text/plain": [
       "0"
      ]
     },
     "execution_count": 21,
     "metadata": {},
     "output_type": "execute_result"
    }
   ],
   "source": [
    "df = df.drop_duplicates(keep='first')\n",
    "df.duplicated().sum()"
   ]
  },
  {
   "cell_type": "markdown",
   "id": "7d470d20-23ca-4cc5-a39d-13b9f5c30089",
   "metadata": {},
   "source": [
    "#### High cardinality"
   ]
  },
  {
   "cell_type": "markdown",
   "id": "28679f79-f3b1-4b42-ad9f-fa6a4ec4da5f",
   "metadata": {},
   "source": [
    "Columns `DateCrawled`, `DateCreated`, `LastSeen` have no impact on target feature since they are not related to cars themselves but to database operation. We will drop those columns."
   ]
  },
  {
   "cell_type": "code",
   "execution_count": 22,
   "id": "992d5610-2a5c-429f-a09b-e0c2e675a589",
   "metadata": {},
   "outputs": [
    {
     "data": {
      "text/plain": [
       "Index(['Price', 'VehicleType', 'RegistrationYear', 'Gearbox', 'Power', 'Model',\n",
       "       'Kilometer', 'RegistrationMonth', 'FuelType', 'Brand', 'Repaired',\n",
       "       'PostalCode'],\n",
       "      dtype='object')"
      ]
     },
     "execution_count": 22,
     "metadata": {},
     "output_type": "execute_result"
    }
   ],
   "source": [
    "df = df.drop(columns=['DateCrawled', 'DateCreated', 'LastSeen'])\n",
    "df.columns"
   ]
  },
  {
   "cell_type": "markdown",
   "id": "e5beccef-607f-4f73-bca1-ad8bc9a40665",
   "metadata": {},
   "source": [
    "Column `Model` is reported to have high cardinality too but this data could be important for target."
   ]
  },
  {
   "cell_type": "code",
   "execution_count": 56,
   "id": "975d0909-0a2d-40ad-ac1e-766cb5964786",
   "metadata": {},
   "outputs": [
    {
     "data": {
      "image/png": "[encoded data removed]",
      "text/plain": [
       "<Figure size 1080x360 with 1 Axes>"
      ]
     },
     "metadata": {
      "needs_background": "light"
     },
     "output_type": "display_data"
    }
   ],
   "source": [
    "# checking value counts\n",
    "model_counts = df['Model'].value_counts(dropna=False)\n",
    "model_counts.plot(kind='bar', figsize=(15, 5))\n",
    "plt.show()"
   ]
  },
  {
   "cell_type": "code",
   "execution_count": 193,
   "id": "5cfbbd02-1e62-4d44-992b-821d01c83292",
   "metadata": {},
   "outputs": [
    {
     "data": {
      "text/plain": [
       "golf           29232\n",
       "other          24420\n",
       "3er            19761\n",
       "NaN            19705\n",
       "polo           13066\n",
       "corsa          12570\n",
       "astra          10809\n",
       "passat         10145\n",
       "a4              9900\n",
       "c_klasse        8312\n",
       "5er             7868\n",
       "e_klasse        6785\n",
       "a3              6122\n",
       "focus           5874\n",
       "fiesta          5774\n",
       "a6              5541\n",
       "twingo          4953\n",
       "transporter     4822\n",
       "2_reihe         4816\n",
       "fortwo          4337\n",
       "vectra          4254\n",
       "a_klasse        4193\n",
       "mondeo          3601\n",
       "clio            3546\n",
       "1er             3514\n",
       "3_reihe         3493\n",
       "touran          3470\n",
       "punto           3347\n",
       "zafira          3044\n",
       "megane          2910\n",
       "ibiza           2702\n",
       "ka              2702\n",
       "lupo            2594\n",
       "octavia         2108\n",
       "fabia           2080\n",
       "cooper          1950\n",
       "clk             1828\n",
       "micra           1758\n",
       "80              1604\n",
       "caddy           1595\n",
       "x_reihe         1589\n",
       "sharan          1483\n",
       "scenic          1446\n",
       "omega           1416\n",
       "laguna          1364\n",
       "civic           1347\n",
       "1_reihe         1306\n",
       "leon            1304\n",
       "6_reihe         1278\n",
       "i_reihe         1226\n",
       "Name: Model, dtype: int64"
      ]
     },
     "execution_count": 193,
     "metadata": {},
     "output_type": "execute_result"
    }
   ],
   "source": [
    "model_counts.head(50)"
   ]
  },
  {
   "cell_type": "markdown",
   "id": "67c27468-0704-4e5a-bac1-a3cbe0f42946",
   "metadata": {},
   "source": [
    "We will check brand-model pairs"
   ]
  },
  {
   "cell_type": "code",
   "execution_count": 121,
   "id": "ffda4de1-6928-4ce7-add1-b0bedc5968fa",
   "metadata": {},
   "outputs": [],
   "source": [
    "model_brand = df.groupby(by=['Brand', 'Model'], dropna=False)"
   ]
  },
  {
   "cell_type": "code",
   "execution_count": 155,
   "id": "24415110-4992-49cd-9cbb-c359d8479fd2",
   "metadata": {},
   "outputs": [
    {
     "data": {
      "text/html": [
       "<div>\n",
       "<style scoped>\n",
       "    .dataframe tbody tr th:only-of-type {\n",
       "        vertical-align: middle;\n",
       "    }\n",
       "\n",
       "    .dataframe tbody tr th {\n",
       "        vertical-align: top;\n",
       "    }\n",
       "\n",
       "    .dataframe thead th {\n",
       "        text-align: right;\n",
       "    }\n",
       "</style>\n",
       "<table border=\"1\" class=\"dataframe\">\n",
       "  <thead>\n",
       "    <tr style=\"text-align: right;\">\n",
       "      <th></th>\n",
       "      <th></th>\n",
       "      <th>Gearbox</th>\n",
       "      <th>Power</th>\n",
       "      <th>FuelType</th>\n",
       "      <th>VehicleType</th>\n",
       "    </tr>\n",
       "    <tr>\n",
       "      <th>Brand</th>\n",
       "      <th>Model</th>\n",
       "      <th></th>\n",
       "      <th></th>\n",
       "      <th></th>\n",
       "      <th></th>\n",
       "    </tr>\n",
       "  </thead>\n",
       "  <tbody>\n",
       "    <tr>\n",
       "      <th rowspan=\"5\" valign=\"top\">alfa_romeo</th>\n",
       "      <th>145</th>\n",
       "      <td>1</td>\n",
       "      <td>14</td>\n",
       "      <td>2</td>\n",
       "      <td>4</td>\n",
       "    </tr>\n",
       "    <tr>\n",
       "      <th>147</th>\n",
       "      <td>2</td>\n",
       "      <td>25</td>\n",
       "      <td>3</td>\n",
       "      <td>6</td>\n",
       "    </tr>\n",
       "    <tr>\n",
       "      <th>156</th>\n",
       "      <td>2</td>\n",
       "      <td>36</td>\n",
       "      <td>3</td>\n",
       "      <td>5</td>\n",
       "    </tr>\n",
       "    <tr>\n",
       "      <th>159</th>\n",
       "      <td>2</td>\n",
       "      <td>18</td>\n",
       "      <td>2</td>\n",
       "      <td>2</td>\n",
       "    </tr>\n",
       "    <tr>\n",
       "      <th>other</th>\n",
       "      <td>2</td>\n",
       "      <td>68</td>\n",
       "      <td>3</td>\n",
       "      <td>6</td>\n",
       "    </tr>\n",
       "    <tr>\n",
       "      <th>...</th>\n",
       "      <th>...</th>\n",
       "      <td>...</td>\n",
       "      <td>...</td>\n",
       "      <td>...</td>\n",
       "      <td>...</td>\n",
       "    </tr>\n",
       "    <tr>\n",
       "      <th rowspan=\"5\" valign=\"top\">volvo</th>\n",
       "      <th>v50</th>\n",
       "      <td>2</td>\n",
       "      <td>15</td>\n",
       "      <td>4</td>\n",
       "      <td>2</td>\n",
       "    </tr>\n",
       "    <tr>\n",
       "      <th>v60</th>\n",
       "      <td>2</td>\n",
       "      <td>13</td>\n",
       "      <td>3</td>\n",
       "      <td>2</td>\n",
       "    </tr>\n",
       "    <tr>\n",
       "      <th>v70</th>\n",
       "      <td>2</td>\n",
       "      <td>49</td>\n",
       "      <td>4</td>\n",
       "      <td>2</td>\n",
       "    </tr>\n",
       "    <tr>\n",
       "      <th>xc_reihe</th>\n",
       "      <td>2</td>\n",
       "      <td>25</td>\n",
       "      <td>3</td>\n",
       "      <td>3</td>\n",
       "    </tr>\n",
       "    <tr>\n",
       "      <th>NaN</th>\n",
       "      <td>2</td>\n",
       "      <td>31</td>\n",
       "      <td>4</td>\n",
       "      <td>4</td>\n",
       "    </tr>\n",
       "  </tbody>\n",
       "</table>\n",
       "<p>337 rows × 4 columns</p>\n",
       "</div>"
      ],
      "text/plain": [
       "                     Gearbox  Power  FuelType  VehicleType\n",
       "Brand      Model                                          \n",
       "alfa_romeo 145             1     14         2            4\n",
       "           147             2     25         3            6\n",
       "           156             2     36         3            5\n",
       "           159             2     18         2            2\n",
       "           other           2     68         3            6\n",
       "...                      ...    ...       ...          ...\n",
       "volvo      v50             2     15         4            2\n",
       "           v60             2     13         3            2\n",
       "           v70             2     49         4            2\n",
       "           xc_reihe        2     25         3            3\n",
       "           NaN             2     31         4            4\n",
       "\n",
       "[337 rows x 4 columns]"
      ]
     },
     "execution_count": 155,
     "metadata": {},
     "output_type": "execute_result"
    }
   ],
   "source": [
    "model_brand[['Gearbox', 'Power', 'FuelType', 'VehicleType']].agg('nunique')"
   ]
  },
  {
   "cell_type": "code",
   "execution_count": 174,
   "id": "2d285863-0382-40f1-af39-a4e9ced03396",
   "metadata": {},
   "outputs": [
    {
     "data": {
      "text/plain": [
       "VehicleType\n",
       "small    19\n",
       "NaN      14\n",
       "sedan    13\n",
       "coupe     2\n",
       "other     1\n",
       "dtype: int64"
      ]
     },
     "execution_count": 174,
     "metadata": {},
     "output_type": "execute_result"
    }
   ],
   "source": [
    "df[(df['Brand'] == 'alfa_romeo') & (df['Model'] == '145')].value_counts(subset='VehicleType', dropna=False)"
   ]
  },
  {
   "cell_type": "markdown",
   "id": "b4969840-28be-4ef0-acec-d45859445eaf",
   "metadata": {},
   "source": [
    "Although `Brand` and `Model` define a car there are dufferent"
   ]
  },
  {
   "cell_type": "code",
   "execution_count": 159,
   "id": "acbaa2b9-a5dc-4b10-a1c0-65b450d97ef8",
   "metadata": {},
   "outputs": [
    {
     "data": {
      "text/plain": [
       "sedan          91457\n",
       "small          79830\n",
       "wagon          65165\n",
       "NaN            37490\n",
       "bus            28775\n",
       "convertible    20203\n",
       "coupe          16161\n",
       "suv            11996\n",
       "other           3288\n",
       "Name: VehicleType, dtype: int64"
      ]
     },
     "execution_count": 159,
     "metadata": {},
     "output_type": "execute_result"
    }
   ],
   "source": [
    "df['VehicleType'].value_counts(dropna=False)"
   ]
  },
  {
   "cell_type": "code",
   "execution_count": 160,
   "id": "1e1af1e6-188a-4360-8238-d47c0a005868",
   "metadata": {},
   "outputs": [],
   "source": [
    "model_group = df.groupby(by='Model', dropna=False)"
   ]
  },
  {
   "cell_type": "code",
   "execution_count": 162,
   "id": "62a7d9fc-456e-49c8-8cdd-f4eeb36a053c",
   "metadata": {},
   "outputs": [
    {
     "data": {
      "text/plain": [
       "Model\n",
       "100          417\n",
       "145           49\n",
       "147          572\n",
       "156          629\n",
       "159          212\n",
       "           ...  \n",
       "yeti         174\n",
       "ypsilon      209\n",
       "z_reihe      717\n",
       "zafira      3044\n",
       "NaN        19705\n",
       "Name: Price, Length: 251, dtype: int64"
      ]
     },
     "execution_count": 162,
     "metadata": {},
     "output_type": "execute_result"
    }
   ],
   "source": [
    "model_group['Price'].agg('count')"
   ]
  },
  {
   "cell_type": "code",
   "execution_count": 190,
   "id": "15e4987f-c042-48b5-904b-d905bb68ba3d",
   "metadata": {},
   "outputs": [],
   "source": [
    "df['ModelsCount'] = df.groupby(by='Model', dropna=False)['Price'].transform('count')"
   ]
  },
  {
   "cell_type": "code",
   "execution_count": 191,
   "id": "34a906bc-dd5f-4c19-9b4d-08b1affec65a",
   "metadata": {},
   "outputs": [
    {
     "data": {
      "text/html": [
       "<div>\n",
       "<style scoped>\n",
       "    .dataframe tbody tr th:only-of-type {\n",
       "        vertical-align: middle;\n",
       "    }\n",
       "\n",
       "    .dataframe tbody tr th {\n",
       "        vertical-align: top;\n",
       "    }\n",
       "\n",
       "    .dataframe thead th {\n",
       "        text-align: right;\n",
       "    }\n",
       "</style>\n",
       "<table border=\"1\" class=\"dataframe\">\n",
       "  <thead>\n",
       "    <tr style=\"text-align: right;\">\n",
       "      <th></th>\n",
       "      <th>Price</th>\n",
       "      <th>VehicleType</th>\n",
       "      <th>RegistrationYear</th>\n",
       "      <th>Gearbox</th>\n",
       "      <th>Power</th>\n",
       "      <th>Model</th>\n",
       "      <th>Kilometer</th>\n",
       "      <th>RegistrationMonth</th>\n",
       "      <th>FuelType</th>\n",
       "      <th>Brand</th>\n",
       "      <th>Repaired</th>\n",
       "      <th>PostalCode</th>\n",
       "      <th>ModelsCount</th>\n",
       "    </tr>\n",
       "  </thead>\n",
       "  <tbody>\n",
       "    <tr>\n",
       "      <th>0</th>\n",
       "      <td>480</td>\n",
       "      <td>NaN</td>\n",
       "      <td>1993</td>\n",
       "      <td>manual</td>\n",
       "      <td>0</td>\n",
       "      <td>golf</td>\n",
       "      <td>150000</td>\n",
       "      <td>0</td>\n",
       "      <td>petrol</td>\n",
       "      <td>volkswagen</td>\n",
       "      <td>NaN</td>\n",
       "      <td>70435</td>\n",
       "      <td>29232</td>\n",
       "    </tr>\n",
       "    <tr>\n",
       "      <th>1</th>\n",
       "      <td>18300</td>\n",
       "      <td>coupe</td>\n",
       "      <td>2011</td>\n",
       "      <td>manual</td>\n",
       "      <td>190</td>\n",
       "      <td>NaN</td>\n",
       "      <td>125000</td>\n",
       "      <td>5</td>\n",
       "      <td>gasoline</td>\n",
       "      <td>audi</td>\n",
       "      <td>yes</td>\n",
       "      <td>66954</td>\n",
       "      <td>19705</td>\n",
       "    </tr>\n",
       "    <tr>\n",
       "      <th>2</th>\n",
       "      <td>9800</td>\n",
       "      <td>suv</td>\n",
       "      <td>2004</td>\n",
       "      <td>auto</td>\n",
       "      <td>163</td>\n",
       "      <td>grand</td>\n",
       "      <td>125000</td>\n",
       "      <td>8</td>\n",
       "      <td>gasoline</td>\n",
       "      <td>jeep</td>\n",
       "      <td>NaN</td>\n",
       "      <td>90480</td>\n",
       "      <td>561</td>\n",
       "    </tr>\n",
       "    <tr>\n",
       "      <th>3</th>\n",
       "      <td>1500</td>\n",
       "      <td>small</td>\n",
       "      <td>2001</td>\n",
       "      <td>manual</td>\n",
       "      <td>75</td>\n",
       "      <td>golf</td>\n",
       "      <td>150000</td>\n",
       "      <td>6</td>\n",
       "      <td>petrol</td>\n",
       "      <td>volkswagen</td>\n",
       "      <td>no</td>\n",
       "      <td>91074</td>\n",
       "      <td>29232</td>\n",
       "    </tr>\n",
       "    <tr>\n",
       "      <th>4</th>\n",
       "      <td>3600</td>\n",
       "      <td>small</td>\n",
       "      <td>2008</td>\n",
       "      <td>manual</td>\n",
       "      <td>69</td>\n",
       "      <td>fabia</td>\n",
       "      <td>90000</td>\n",
       "      <td>7</td>\n",
       "      <td>gasoline</td>\n",
       "      <td>skoda</td>\n",
       "      <td>no</td>\n",
       "      <td>60437</td>\n",
       "      <td>2080</td>\n",
       "    </tr>\n",
       "  </tbody>\n",
       "</table>\n",
       "</div>"
      ],
      "text/plain": [
       "   Price VehicleType  RegistrationYear Gearbox  Power  Model  Kilometer  \\\n",
       "0    480         NaN              1993  manual      0   golf     150000   \n",
       "1  18300       coupe              2011  manual    190    NaN     125000   \n",
       "2   9800         suv              2004    auto    163  grand     125000   \n",
       "3   1500       small              2001  manual     75   golf     150000   \n",
       "4   3600       small              2008  manual     69  fabia      90000   \n",
       "\n",
       "   RegistrationMonth  FuelType       Brand Repaired  PostalCode  ModelsCount  \n",
       "0                  0    petrol  volkswagen      NaN       70435        29232  \n",
       "1                  5  gasoline        audi      yes       66954        19705  \n",
       "2                  8  gasoline        jeep      NaN       90480          561  \n",
       "3                  6    petrol  volkswagen       no       91074        29232  \n",
       "4                  7  gasoline       skoda       no       60437         2080  "
      ]
     },
     "execution_count": 191,
     "metadata": {},
     "output_type": "execute_result"
    }
   ],
   "source": [
    "df.head()"
   ]
  },
  {
   "cell_type": "code",
   "execution_count": 192,
   "id": "1dbe3d3c-a719-470b-9e72-774c01d1cfec",
   "metadata": {},
   "outputs": [
    {
     "data": {
      "text/html": [
       "<div>\n",
       "<style scoped>\n",
       "    .dataframe tbody tr th:only-of-type {\n",
       "        vertical-align: middle;\n",
       "    }\n",
       "\n",
       "    .dataframe tbody tr th {\n",
       "        vertical-align: top;\n",
       "    }\n",
       "\n",
       "    .dataframe thead th {\n",
       "        text-align: right;\n",
       "    }\n",
       "</style>\n",
       "<table border=\"1\" class=\"dataframe\">\n",
       "  <thead>\n",
       "    <tr style=\"text-align: right;\">\n",
       "      <th></th>\n",
       "      <th>Price</th>\n",
       "      <th>VehicleType</th>\n",
       "      <th>RegistrationYear</th>\n",
       "      <th>Gearbox</th>\n",
       "      <th>Power</th>\n",
       "      <th>Model</th>\n",
       "      <th>Kilometer</th>\n",
       "      <th>RegistrationMonth</th>\n",
       "      <th>FuelType</th>\n",
       "      <th>Brand</th>\n",
       "      <th>Repaired</th>\n",
       "      <th>PostalCode</th>\n",
       "      <th>ModelsCount</th>\n",
       "    </tr>\n",
       "  </thead>\n",
       "  <tbody>\n",
       "    <tr>\n",
       "      <th>1</th>\n",
       "      <td>18300</td>\n",
       "      <td>coupe</td>\n",
       "      <td>2011</td>\n",
       "      <td>manual</td>\n",
       "      <td>190</td>\n",
       "      <td>NaN</td>\n",
       "      <td>125000</td>\n",
       "      <td>5</td>\n",
       "      <td>gasoline</td>\n",
       "      <td>audi</td>\n",
       "      <td>yes</td>\n",
       "      <td>66954</td>\n",
       "      <td>19705</td>\n",
       "    </tr>\n",
       "    <tr>\n",
       "      <th>61</th>\n",
       "      <td>7499</td>\n",
       "      <td>sedan</td>\n",
       "      <td>2004</td>\n",
       "      <td>auto</td>\n",
       "      <td>232</td>\n",
       "      <td>a8</td>\n",
       "      <td>150000</td>\n",
       "      <td>3</td>\n",
       "      <td>gasoline</td>\n",
       "      <td>audi</td>\n",
       "      <td>yes</td>\n",
       "      <td>71711</td>\n",
       "      <td>529</td>\n",
       "    </tr>\n",
       "    <tr>\n",
       "      <th>90</th>\n",
       "      <td>2400</td>\n",
       "      <td>sedan</td>\n",
       "      <td>2003</td>\n",
       "      <td>manual</td>\n",
       "      <td>0</td>\n",
       "      <td>a4</td>\n",
       "      <td>150000</td>\n",
       "      <td>9</td>\n",
       "      <td>gasoline</td>\n",
       "      <td>audi</td>\n",
       "      <td>NaN</td>\n",
       "      <td>40210</td>\n",
       "      <td>9900</td>\n",
       "    </tr>\n",
       "    <tr>\n",
       "      <th>93</th>\n",
       "      <td>14500</td>\n",
       "      <td>small</td>\n",
       "      <td>2013</td>\n",
       "      <td>manual</td>\n",
       "      <td>86</td>\n",
       "      <td>a1</td>\n",
       "      <td>60000</td>\n",
       "      <td>4</td>\n",
       "      <td>petrol</td>\n",
       "      <td>audi</td>\n",
       "      <td>no</td>\n",
       "      <td>31582</td>\n",
       "      <td>595</td>\n",
       "    </tr>\n",
       "    <tr>\n",
       "      <th>100</th>\n",
       "      <td>499</td>\n",
       "      <td>sedan</td>\n",
       "      <td>1995</td>\n",
       "      <td>manual</td>\n",
       "      <td>101</td>\n",
       "      <td>a4</td>\n",
       "      <td>150000</td>\n",
       "      <td>5</td>\n",
       "      <td>petrol</td>\n",
       "      <td>audi</td>\n",
       "      <td>NaN</td>\n",
       "      <td>85414</td>\n",
       "      <td>9900</td>\n",
       "    </tr>\n",
       "    <tr>\n",
       "      <th>...</th>\n",
       "      <td>...</td>\n",
       "      <td>...</td>\n",
       "      <td>...</td>\n",
       "      <td>...</td>\n",
       "      <td>...</td>\n",
       "      <td>...</td>\n",
       "      <td>...</td>\n",
       "      <td>...</td>\n",
       "      <td>...</td>\n",
       "      <td>...</td>\n",
       "      <td>...</td>\n",
       "      <td>...</td>\n",
       "      <td>...</td>\n",
       "    </tr>\n",
       "    <tr>\n",
       "      <th>354304</th>\n",
       "      <td>850</td>\n",
       "      <td>sedan</td>\n",
       "      <td>1989</td>\n",
       "      <td>manual</td>\n",
       "      <td>113</td>\n",
       "      <td>80</td>\n",
       "      <td>150000</td>\n",
       "      <td>3</td>\n",
       "      <td>petrol</td>\n",
       "      <td>audi</td>\n",
       "      <td>yes</td>\n",
       "      <td>9127</td>\n",
       "      <td>1604</td>\n",
       "    </tr>\n",
       "    <tr>\n",
       "      <th>354306</th>\n",
       "      <td>16999</td>\n",
       "      <td>wagon</td>\n",
       "      <td>2008</td>\n",
       "      <td>auto</td>\n",
       "      <td>269</td>\n",
       "      <td>a6</td>\n",
       "      <td>150000</td>\n",
       "      <td>7</td>\n",
       "      <td>gasoline</td>\n",
       "      <td>audi</td>\n",
       "      <td>no</td>\n",
       "      <td>61440</td>\n",
       "      <td>5541</td>\n",
       "    </tr>\n",
       "    <tr>\n",
       "      <th>354344</th>\n",
       "      <td>1600</td>\n",
       "      <td>wagon</td>\n",
       "      <td>1998</td>\n",
       "      <td>manual</td>\n",
       "      <td>125</td>\n",
       "      <td>a4</td>\n",
       "      <td>150000</td>\n",
       "      <td>2</td>\n",
       "      <td>petrol</td>\n",
       "      <td>audi</td>\n",
       "      <td>no</td>\n",
       "      <td>34414</td>\n",
       "      <td>9900</td>\n",
       "    </tr>\n",
       "    <tr>\n",
       "      <th>354349</th>\n",
       "      <td>5999</td>\n",
       "      <td>wagon</td>\n",
       "      <td>2005</td>\n",
       "      <td>manual</td>\n",
       "      <td>140</td>\n",
       "      <td>a4</td>\n",
       "      <td>150000</td>\n",
       "      <td>4</td>\n",
       "      <td>gasoline</td>\n",
       "      <td>audi</td>\n",
       "      <td>NaN</td>\n",
       "      <td>56472</td>\n",
       "      <td>9900</td>\n",
       "    </tr>\n",
       "    <tr>\n",
       "      <th>354353</th>\n",
       "      <td>1999</td>\n",
       "      <td>sedan</td>\n",
       "      <td>1997</td>\n",
       "      <td>manual</td>\n",
       "      <td>150</td>\n",
       "      <td>a3</td>\n",
       "      <td>150000</td>\n",
       "      <td>12</td>\n",
       "      <td>petrol</td>\n",
       "      <td>audi</td>\n",
       "      <td>no</td>\n",
       "      <td>4275</td>\n",
       "      <td>6122</td>\n",
       "    </tr>\n",
       "  </tbody>\n",
       "</table>\n",
       "<p>29456 rows × 13 columns</p>\n",
       "</div>"
      ],
      "text/plain": [
       "        Price VehicleType  RegistrationYear Gearbox  Power Model  Kilometer  \\\n",
       "1       18300       coupe              2011  manual    190   NaN     125000   \n",
       "61       7499       sedan              2004    auto    232    a8     150000   \n",
       "90       2400       sedan              2003  manual      0    a4     150000   \n",
       "93      14500       small              2013  manual     86    a1      60000   \n",
       "100       499       sedan              1995  manual    101    a4     150000   \n",
       "...       ...         ...               ...     ...    ...   ...        ...   \n",
       "354304    850       sedan              1989  manual    113    80     150000   \n",
       "354306  16999       wagon              2008    auto    269    a6     150000   \n",
       "354344   1600       wagon              1998  manual    125    a4     150000   \n",
       "354349   5999       wagon              2005  manual    140    a4     150000   \n",
       "354353   1999       sedan              1997  manual    150    a3     150000   \n",
       "\n",
       "        RegistrationMonth  FuelType Brand Repaired  PostalCode  ModelsCount  \n",
       "1                       5  gasoline  audi      yes       66954        19705  \n",
       "61                      3  gasoline  audi      yes       71711          529  \n",
       "90                      9  gasoline  audi      NaN       40210         9900  \n",
       "93                      4    petrol  audi       no       31582          595  \n",
       "100                     5    petrol  audi      NaN       85414         9900  \n",
       "...                   ...       ...   ...      ...         ...          ...  \n",
       "354304                  3    petrol  audi      yes        9127         1604  \n",
       "354306                  7  gasoline  audi       no       61440         5541  \n",
       "354344                  2    petrol  audi       no       34414         9900  \n",
       "354349                  4  gasoline  audi      NaN       56472         9900  \n",
       "354353                 12    petrol  audi       no        4275         6122  \n",
       "\n",
       "[29456 rows x 13 columns]"
      ]
     },
     "execution_count": 192,
     "metadata": {},
     "output_type": "execute_result"
    }
   ],
   "source": [
    "df.query('Brand == \"audi\"')"
   ]
  }
 ],
 "metadata": {
  "kernelspec": {
   "display_name": "Python 3 (ipykernel)",
   "language": "python",
   "name": "python3"
  },
  "language_info": {
   "codemirror_mode": {
    "name": "ipython",
    "version": 3
   },
   "file_extension": ".py",
   "mimetype": "text/x-python",
   "name": "python",
   "nbconvert_exporter": "python",
   "pygments_lexer": "ipython3",
   "version": "3.9.7"
  }
 },
 "nbformat": 4,
 "nbformat_minor": 5
}
